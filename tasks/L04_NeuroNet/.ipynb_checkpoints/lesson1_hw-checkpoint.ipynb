{
 "cells": [
  {
   "cell_type": "code",
   "execution_count": 1,
   "metadata": {
    "id": "OynMETv9Dmvf"
   },
   "outputs": [],
   "source": [
    "import numpy as np"
   ]
  },
  {
   "cell_type": "code",
   "execution_count": 2,
   "metadata": {
    "id": "lWo5OXwRDd3C"
   },
   "outputs": [],
   "source": [
    "def sigmoid(x):\n",
    "    # Наша функция активации: f(x) = 1 / (1 + e^(-x))\n",
    "    return 1 / (1 + np.exp(-x))"
   ]
  },
  {
   "cell_type": "code",
   "execution_count": 3,
   "metadata": {
    "id": "ywULOSGaDx1G"
   },
   "outputs": [],
   "source": [
    "class Neuron:\n",
    "    def __init__(self, weights, bias):\n",
    "        self.weights = weights\n",
    "        self.bias = bias\n",
    "\n",
    "    def feedforward(self, inputs):\n",
    "        # Умножаем входы на веса, прибавляем порог, затем используем функцию активации\n",
    "        total = np.dot(self.weights, inputs) + self.bias\n",
    "        return sigmoid(total)"
   ]
  },
  {
   "cell_type": "code",
   "execution_count": 4,
   "metadata": {
    "colab": {
     "base_uri": "https://localhost:8080/"
    },
    "id": "KwOqYXxJE9dF",
    "outputId": "f2ec17ef-a00c-4cc2-9bc8-ff7e04443602"
   },
   "outputs": [
    {
     "name": "stdout",
     "output_type": "stream",
     "text": [
      "0.9990889488055994\n"
     ]
    }
   ],
   "source": [
    "weights = np.array([0, 1]) # w1 = 0, w2 = 1\n",
    "bias = 4                   # b = 4\n",
    "n = Neuron(weights, bias)\n",
    "\n",
    "x = np.array([2, 3])       # x1 = 2, x2 = 3\n",
    "print(n.feedforward(x))    # 0.9990889488055994"
   ]
  },
  {
   "cell_type": "code",
   "execution_count": 5,
   "metadata": {
    "id": "3ZurGOmTFatr"
   },
   "outputs": [],
   "source": [
    "class OurNeuralNetwork:\n",
    "    def __init__(self):\n",
    "        # Веса\n",
    "        self.w1 = np.random.normal()\n",
    "        self.w2 = np.random.normal()\n",
    "        self.w3 = np.random.normal()\n",
    "        self.w4 = np.random.normal()\n",
    "        self.w5 = np.random.normal()\n",
    "        self.w6 = np.random.normal()\n",
    "\n",
    "        # Пороги\n",
    "        self.b1 = np.random.normal()\n",
    "        self.b2 = np.random.normal()\n",
    "        self.b3 = np.random.normal()\n",
    "\n",
    "    def feedforward(self, x):\n",
    "        # x is a numpy array with 2 elements.\n",
    "        h1 = sigmoid(self.w1 * x[0] + self.w2 * x[1] + self.b1)\n",
    "        h2 = sigmoid(self.w3 * x[0] + self.w4 * x[1] + self.b2)\n",
    "        o1 = sigmoid(self.w5 * h1 + self.w6 * h2 + self.b3)\n",
    "        return o1\n",
    "    \n",
    "    def train(self, data, all_y_trues):\n",
    "        '''\n",
    "        - data - массив numpy (n x 2) numpy, n = к-во наблюдений в наборе.\n",
    "        - all_y_trues - массив numpy с n элементами.\n",
    "          Элементы all_y_trues соответствуют наблюдениям в data.\n",
    "        '''\n",
    "        learn_rate = 0.1\n",
    "        epochs = 1000 # сколько раз пройти по всему набору данных\n",
    "\n",
    "        for epoch in range(epochs):\n",
    "            for x, y_true in zip(data, all_y_trues):\n",
    "                # --- Прямой проход (эти значения нам понадобятся позже)\n",
    "                sum_h1 = self.w1 * x[0] + self.w2 * x[1] + self.b1\n",
    "                h1 = sigmoid(sum_h1)\n",
    "\n",
    "                sum_h2 = self.w3 * x[0] + self.w4 * x[1] + self.b2\n",
    "                h2 = sigmoid(sum_h2)\n",
    "\n",
    "                sum_o1 = self.w5 * h1 + self.w6 * h2 + self.b3\n",
    "                o1 = sigmoid(sum_o1)\n",
    "                y_pred = o1\n",
    "\n",
    "                # --- Считаем частные производные.\n",
    "                # --- Имена: d_L_d_w1 = \"частная производная L по w1\"\n",
    "                d_L_d_ypred = -2 * (y_true - y_pred)\n",
    "\n",
    "                # Нейрон o1\n",
    "                d_ypred_d_w5 = h1 * deriv_sigmoid(sum_o1)\n",
    "                d_ypred_d_w6 = h2 * deriv_sigmoid(sum_o1)\n",
    "                d_ypred_d_b3 = deriv_sigmoid(sum_o1)\n",
    "\n",
    "                d_ypred_d_h1 = self.w5 * deriv_sigmoid(sum_o1)\n",
    "                d_ypred_d_h2 = self.w6 * deriv_sigmoid(sum_o1)\n",
    "\n",
    "                # Нейрон h1\n",
    "                d_h1_d_w1 = x[0] * deriv_sigmoid(sum_h1)\n",
    "                d_h1_d_w2 = x[1] * deriv_sigmoid(sum_h1)\n",
    "                d_h1_d_b1 = deriv_sigmoid(sum_h1)\n",
    "\n",
    "                # Нейрон h2\n",
    "                d_h2_d_w3 = x[0] * deriv_sigmoid(sum_h2)\n",
    "                d_h2_d_w4 = x[1] * deriv_sigmoid(sum_h2)\n",
    "                d_h2_d_b2 = deriv_sigmoid(sum_h2)\n",
    "\n",
    "                # --- Обновляем веса и пороги\n",
    "                # Нейрон h1\n",
    "                self.w1 -= learn_rate * d_L_d_ypred * d_ypred_d_h1 * d_h1_d_w1\n",
    "                self.w2 -= learn_rate * d_L_d_ypred * d_ypred_d_h1 * d_h1_d_w2\n",
    "                self.b1 -= learn_rate * d_L_d_ypred * d_ypred_d_h1 * d_h1_d_b1\n",
    "\n",
    "                # Нейрон h2\n",
    "                self.w3 -= learn_rate * d_L_d_ypred * d_ypred_d_h2 * d_h2_d_w3\n",
    "                self.w4 -= learn_rate * d_L_d_ypred * d_ypred_d_h2 * d_h2_d_w4\n",
    "                self.b2 -= learn_rate * d_L_d_ypred * d_ypred_d_h2 * d_h2_d_b2\n",
    "\n",
    "                # Нейрон o1\n",
    "                self.w5 -= learn_rate * d_L_d_ypred * d_ypred_d_w5\n",
    "                self.w6 -= learn_rate * d_L_d_ypred * d_ypred_d_w6\n",
    "                self.b3 -= learn_rate * d_L_d_ypred * d_ypred_d_b3\n",
    "\n",
    "            # --- Считаем полные потери в конце каждой эпохи\n",
    "            if epoch % 100 == 0:\n",
    "                y_preds = np.apply_along_axis(self.feedforward, 1, data)\n",
    "                loss = mse_loss(all_y_trues, y_preds)\n",
    "                print(\"Epoch %d loss: %.3f\" % (epoch, loss))\n",
    "\n",
    "    def predict(self, data):\n",
    "        return int(self.feedforward(data) + 0.5)"
   ]
  },
  {
   "cell_type": "code",
   "execution_count": 6,
   "metadata": {
    "id": "g_RcWISlGz6b"
   },
   "outputs": [],
   "source": [
    "def mse_loss(y_true, y_pred):\n",
    "    # y_true и y_pred - массивы numpy одинаковой длины.\n",
    "    return ((y_true - y_pred) ** 2).mean()"
   ]
  },
  {
   "cell_type": "code",
   "execution_count": 7,
   "metadata": {
    "id": "wAWrGm6XIN3x"
   },
   "outputs": [],
   "source": [
    "def deriv_sigmoid(x):\n",
    "    # Производная сигмоиды: f'(x) = f(x) * (1 - f(x))\n",
    "    fx = sigmoid(x)\n",
    "    return fx * (1 - fx)"
   ]
  },
  {
   "cell_type": "code",
   "execution_count": 8,
   "metadata": {
    "id": "UDp_NhE-IpWx"
   },
   "outputs": [],
   "source": [
    "# Определим набор данных: [Рост см, Вес кг], база для отклонения [170, 65]\n",
    "data = np.array([\n",
    "    [-5, -5],   # [-2, -1],  # Алиса\n",
    "    [13, 8],    # [25, 6],   # Боб\n",
    "    [8, 4],     # [17, 4],   # Чарли\n",
    "    [-18, -11], # [-15, -6], # Диана\n",
    "])\n",
    "all_y_trues = np.array([\n",
    "    1, # Алиса\n",
    "    0, # Боб\n",
    "    0, # Чарли\n",
    "    1, # Диана\n",
    "])"
   ]
  },
  {
   "cell_type": "code",
   "execution_count": 9,
   "metadata": {
    "colab": {
     "base_uri": "https://localhost:8080/"
    },
    "id": "kldwIdYoLYDN",
    "outputId": "3edf2081-b642-488c-c90d-67fc1c6111f8"
   },
   "outputs": [
    {
     "name": "stdout",
     "output_type": "stream",
     "text": [
      "Epoch 0 loss: 0.533\n",
      "Epoch 100 loss: 0.031\n",
      "Epoch 200 loss: 0.011\n",
      "Epoch 300 loss: 0.006\n",
      "Epoch 400 loss: 0.004\n",
      "Epoch 500 loss: 0.003\n",
      "Epoch 600 loss: 0.003\n",
      "Epoch 700 loss: 0.002\n",
      "Epoch 800 loss: 0.002\n",
      "Epoch 900 loss: 0.002\n"
     ]
    }
   ],
   "source": [
    "network = OurNeuralNetwork()\n",
    "network.train(data, all_y_trues)"
   ]
  },
  {
   "cell_type": "code",
   "execution_count": 10,
   "metadata": {},
   "outputs": [
    {
     "name": "stdout",
     "output_type": "stream",
     "text": [
      "Эмили: 1\n",
      "Фрэнк: 0\n"
     ]
    }
   ],
   "source": [
    "# Делаем пару предсказаний\n",
    "emily = np.array([-8, -3]) # 128 фунтов (58 кг), 63 дюйма  (160 см)\n",
    "frank = np.array([5, 9])   # 155 pounds (70 кг), 68 inches (173 см)\n",
    "print(\"Эмили: %d\" % network.predict(emily)) # 0.951 - Ж\n",
    "print(\"Фрэнк: %d\" % network.predict(frank)) # 0.039 - М"
   ]
  },
  {
   "cell_type": "code",
   "execution_count": 16,
   "metadata": {},
   "outputs": [
    {
     "ename": "SyntaxError",
     "evalue": "invalid syntax (<ipython-input-16-2cabb4009c00>, line 13)",
     "output_type": "error",
     "traceback": [
      "\u001b[1;36m  File \u001b[1;32m\"<ipython-input-16-2cabb4009c00>\"\u001b[1;36m, line \u001b[1;32m13\u001b[0m\n\u001b[1;33m    print(\"М2Л:\\t%d\\t%.3f\" % (network.predict(m2), network.feedforward(m2))\u001b[0m\n\u001b[1;37m        ^\u001b[0m\n\u001b[1;31mSyntaxError\u001b[0m\u001b[1;31m:\u001b[0m invalid syntax\n"
     ]
    }
   ],
   "source": [
    "# Данные для проверки по ДЗ GeekBrains\n",
    "m1 = np.array([-15, -9])  # М1Н [155, 56]\n",
    "m2 = np.array([-10, -11]) # М2Л [160, 54]\n",
    "m3 = np.array([-5, 4])    # М3Т [165, 69]\n",
    "m4 = np.array([5, 7])     # М4Н [175, 72]\n",
    "m5 = np.array([15, 9])    # М5Л [185, 74]\n",
    "f1 = np.array([-20, -13]) # Ж1Н [150, 52]\n",
    "f2 = np.array([-10, -13]) # Ж2Л [160, 52]\n",
    "f3 = np.array([0, 5])     # Ж3Т [170, 70]\n",
    "f4 = np.array([5, 2])     # Ж4Н [175, 67]\n",
    "f5 = np.array([10, 10])   # Ж5Т [180, 75]\n",
    "print(\"М1Н:\\t%d\\t%.3f\" % (network.predict(m1), network.feedforward(m1)))\n",
    "print(\"М2Л:\\t%d\\t%.3f\" % (network.predict(m2), network.feedforward(m2)))\n",
    "print(\"М3Т:\\t%d\\t%.3f\" % (network.predict(m3), network.feedforward(m3)))\n",
    "print(\"М4Н:\\t%d\\t%.3f\" % (network.predict(m4), network.feedforward(m4)))\n",
    "print(\"М5Л:\\t%d\\t%.3f\" % (network.predict(m5), network.feedforward(m5)))\n",
    "print(\"Ж1Н:\\t%d\\t%.3f\" % (network.predict(f1), network.feedforward(f1)))\n",
    "print(\"Ж2Л:\\t%d\\t%.3f\" % (network.predict(f2), network.feedforward(f2)))\n",
    "print(\"Ж3Т:\\t%d\\t%.3f\" % (network.predict(f3), network.feedforward(f3)))\n",
    "print(\"Ж4Н:\\t%d\\t%.3f\" % (network.predict(f4), network.feedforward(f4)))\n",
    "print(\"Ж5Т:\\t%d\\t%.3f\" % (network.predict(f5), network.feedforward(f5)))"
   ]
  },
  {
   "cell_type": "code",
   "execution_count": null,
   "metadata": {},
   "outputs": [],
   "source": []
  }
 ],
 "metadata": {
  "colab": {
   "provenance": []
  },
  "kernelspec": {
   "display_name": "Python 3",
   "language": "python",
   "name": "python3"
  },
  "language_info": {
   "codemirror_mode": {
    "name": "ipython",
    "version": 3
   },
   "file_extension": ".py",
   "mimetype": "text/x-python",
   "name": "python",
   "nbconvert_exporter": "python",
   "pygments_lexer": "ipython3",
   "version": "3.7.4"
  }
 },
 "nbformat": 4,
 "nbformat_minor": 1
}
